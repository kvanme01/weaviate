{
 "cells": [
  {
   "cell_type": "code",
   "execution_count": 5,
   "metadata": {},
   "outputs": [],
   "source": [
    "import weaviate\n",
    "from datasets import load_dataset\n",
    "import time\n",
    "import traceback\n",
    "from weaviate import WeaviateClient"
   ]
  },
  {
   "cell_type": "code",
   "execution_count": 3,
   "metadata": {},
   "outputs": [
    {
     "name": "stdout",
     "output_type": "stream",
     "text": [
      "{'quote': '“Be yourself; everyone else is already taken.”', 'author': 'Oscar Wilde', 'tags': ['be-yourself', 'gilbert-perreira', 'honesty', 'inspirational', 'misattributed-oscar-wilde', 'quote-investigator']}\n"
     ]
    }
   ],
   "source": [
    "# Load the dataset\n",
    "dataset = load_dataset('Abirate/english_quotes')\n",
    "\n",
    "# Inspect the dataset structure\n",
    "print(dataset['train'][0])"
   ]
  },
  {
   "cell_type": "code",
   "execution_count": 6,
   "metadata": {},
   "outputs": [],
   "source": [
    "# Connect to Weaviate instance\n",
    "client = weaviate.Client(\"http://localhost:8080\")"
   ]
  },
  {
   "cell_type": "code",
   "execution_count": 7,
   "metadata": {},
   "outputs": [
    {
     "name": "stdout",
     "output_type": "stream",
     "text": [
      "Quotes class deleted.\n"
     ]
    }
   ],
   "source": [
    "# Delete the existing Quotes class if it exists\n",
    "try:\n",
    "    client.schema.delete_class(\"Quotes\")\n",
    "    print(\"Quotes class deleted.\")\n",
    "except weaviate.exceptions.UnexpectedStatusCodeException:\n",
    "    print(\"Quotes class did not exist, proceeding with creation.\")\n"
   ]
  },
  {
   "cell_type": "code",
   "execution_count": 8,
   "metadata": {},
   "outputs": [],
   "source": [
    "# Define the updated schema for your data\n",
    "schema = {\n",
    "    \"class\": \"Quotes\",\n",
    "    \"vectorizer\": \"text2vec-transformers\",\n",
    "    \"properties\": [\n",
    "        {\"name\": \"quote\", \"dataType\": [\"string\"]},\n",
    "        {\"name\": \"author\", \"dataType\": [\"string\"]},\n",
    "        {\"name\": \"tags\", \"dataType\": [\"string[]\"]}\n",
    "    ]\n",
    "}\n",
    "\n",
    "# Create the class in Weaviate\n",
    "client.schema.create_class(schema)"
   ]
  },
  {
   "cell_type": "code",
   "execution_count": 9,
   "metadata": {},
   "outputs": [
    {
     "name": "stdout",
     "output_type": "stream",
     "text": [
      "100 objects imported...\n",
      "200 objects imported...\n",
      "300 objects imported...\n",
      "400 objects imported...\n",
      "500 objects imported...\n",
      "600 objects imported...\n",
      "700 objects imported...\n",
      "800 objects imported...\n",
      "900 objects imported...\n",
      "1000 objects imported...\n",
      "1100 objects imported...\n",
      "1200 objects imported...\n",
      "1300 objects imported...\n",
      "1400 objects imported...\n",
      "1500 objects imported...\n",
      "1600 objects imported...\n",
      "1700 objects imported...\n",
      "1800 objects imported...\n",
      "1900 objects imported...\n",
      "2000 objects imported...\n",
      "2100 objects imported...\n",
      "2200 objects imported...\n",
      "2300 objects imported...\n",
      "2400 objects imported...\n",
      "2500 objects imported...\n",
      "Data import completed in 576.87 seconds.\n"
     ]
    }
   ],
   "source": [
    "# Define a generator function to yield data objects one at a time\n",
    "def generate_quotes_data(dataset):\n",
    "    for item in dataset['train']:\n",
    "        yield {\"quote\": item[\"quote\"], \"author\": item[\"author\"], \"tags\": item[\"tags\"]}\n",
    "\n",
    "# Import the data into Weaviate with increased batch size\n",
    "start_time = time.time()\n",
    "try:\n",
    "    with client.batch as batch:\n",
    "        batch.batch_size = 100  # Adjust batch size for better performance\n",
    "        for i, obj in enumerate(generate_quotes_data(dataset)):\n",
    "            weaviate_obj = {\n",
    "                \"quote\": obj[\"quote\"],\n",
    "                \"author\": obj[\"author\"],\n",
    "                \"tags\": obj[\"tags\"],\n",
    "            }\n",
    "            batch.add_data_object(weaviate_obj, \"Quotes\")\n",
    "            if (i + 1) % 100 == 0:\n",
    "                print(f\"{i + 1} objects imported...\")\n",
    "except Exception as e:\n",
    "    print(\"An error occurred:\")\n",
    "    traceback.print_exc()\n",
    "\n",
    "end_time = time.time()\n",
    "print(f\"Data import completed in {end_time - start_time:.2f} seconds.\")\n"
   ]
  },
  {
   "cell_type": "markdown",
   "metadata": {},
   "source": [
    "Test"
   ]
  },
  {
   "cell_type": "code",
   "execution_count": 10,
   "metadata": {},
   "outputs": [
    {
     "name": "stdout",
     "output_type": "stream",
     "text": [
      "Response from Weaviate: {'data': {'Get': {'Quotes': [{'author': 'Jack London', 'quote': \"“You can't wait for inspiration. You have to go after it with a club.”\", 'tags': ['inspiration', 'on-writing', 'writing']}, {'author': 'Pablo Picasso,', 'quote': '“Others have seen what is and asked why. I have seen what could be and asked why not. ”', 'tags': ['creativity', 'inspirational']}, {'author': 'Walt Disney', 'quote': '“The way to get started is to quit talking and begin doing. ”', 'tags': ['motivation', 'success']}, {'author': 'George Bernard Shaw', 'quote': \"“Life isn't about finding yourself. Life is about creating yourself.”\", 'tags': ['inspirational', 'life', 'yourself']}, {'author': 'Maya Angelou', 'quote': '“The desire to reach for the stars is ambitious. The desire to reach hearts is wise.”', 'tags': ['ambition', 'inspirational', 'wisdom']}]}}}\n",
      "Quote: “You can't wait for inspiration. You have to go after it with a club.” - Author: Jack London - Tags: inspiration, on-writing, writing\n",
      "Quote: “Others have seen what is and asked why. I have seen what could be and asked why not. ” - Author: Pablo Picasso, - Tags: creativity, inspirational\n",
      "Quote: “The way to get started is to quit talking and begin doing. ” - Author: Walt Disney - Tags: motivation, success\n",
      "Quote: “Life isn't about finding yourself. Life is about creating yourself.” - Author: George Bernard Shaw - Tags: inspirational, life, yourself\n",
      "Quote: “The desire to reach for the stars is ambitious. The desire to reach hearts is wise.” - Author: Maya Angelou - Tags: ambition, inspirational, wisdom\n"
     ]
    }
   ],
   "source": [
    "# Perform a vector search to verify the data\n",
    "try:\n",
    "    response = (\n",
    "        client.query\n",
    "        .get(\"Quotes\", [\"quote\", \"author\", \"tags\"])\n",
    "        .with_near_text({\"concepts\": [\"inspiration\"]})\n",
    "        .with_limit(5)\n",
    "        .do()\n",
    "    )\n",
    "\n",
    "    # Print the entire response for debugging\n",
    "    print(\"Response from Weaviate:\", response)\n",
    "\n",
    "    # Print the search results\n",
    "    if 'data' in response and 'Get' in response['data'] and 'Quotes' in response['data']['Get']:\n",
    "        for obj in response['data']['Get']['Quotes']:\n",
    "            print(f\"Quote: {obj['quote']} - Author: {obj['author']} - Tags: {', '.join(obj['tags'])}\")\n",
    "    else:\n",
    "        print(\"The response structure is not as expected. Please check the response format.\")\n",
    "except Exception as e:\n",
    "    print(f\"An error occurred: {e}\")"
   ]
  },
  {
   "cell_type": "markdown",
   "metadata": {},
   "source": [
    "Search Functionality"
   ]
  },
  {
   "cell_type": "code",
   "execution_count": 11,
   "metadata": {},
   "outputs": [],
   "source": [
    "# Function to perform vector search\n",
    "def perform_vector_search(client, query):\n",
    "    try:\n",
    "        response = (\n",
    "            client.query\n",
    "            .get(\"Quotes\", [\"quote\", \"author\", \"tags\"])\n",
    "            .with_near_text({\"concepts\": [query]})\n",
    "            .with_limit(5)\n",
    "            .do()\n",
    "        )\n",
    "\n",
    "        # Print the search results\n",
    "        print(\"\\nVector Search results:\")\n",
    "        if 'data' in response and 'Get' in response['data'] and 'Quotes' in response['data']['Get']:\n",
    "            for obj in response['data']['Get']['Quotes']:\n",
    "                quote = obj.get('quote', 'N/A')\n",
    "                author = obj.get('author', 'N/A')\n",
    "                tags = obj.get('tags', [])\n",
    "                if isinstance(tags, list):\n",
    "                    tags = ', '.join(tags)\n",
    "                print(f\"Quote: {quote} - Author: {author} - Tags: {tags}\")\n",
    "        else:\n",
    "            print(\"The response structure is not as expected. Please check the response format.\")\n",
    "    except Exception as e:\n",
    "        print(f\"An error occurred during the vector search: {e}\")\n",
    "        traceback.print_exc()"
   ]
  },
  {
   "cell_type": "code",
   "execution_count": 12,
   "metadata": {},
   "outputs": [],
   "source": [
    "# Function to perform hybrid search\n",
    "def perform_hybrid_search(client, query):\n",
    "    try:\n",
    "        response = (\n",
    "            client.query\n",
    "            .get(\"Quotes\", [\"quote\", \"author\", \"tags\"])\n",
    "            .with_hybrid(query=query, alpha=0.5)\n",
    "            .with_limit(5)\n",
    "            .do()\n",
    "        )\n",
    "\n",
    "        # Print the search results\n",
    "        print(\"\\nHybrid Search results:\")\n",
    "        if 'data' in response and 'Get' in response['data'] and 'Quotes' in response['data']['Get']:\n",
    "            for obj in response['data']['Get']['Quotes']:\n",
    "                quote = obj.get('quote', 'N/A')\n",
    "                author = obj.get('author', 'N/A')\n",
    "                tags = obj.get('tags', [])\n",
    "                if isinstance(tags, list):\n",
    "                    tags = ', '.join(tags)\n",
    "                print(f\"Quote: {quote} - Author: {author} - Tags: {tags}\")\n",
    "        else:\n",
    "            print(\"The response structure is not as expected. Please check the response format.\")\n",
    "    except Exception as e:\n",
    "        print(f\"An error occurred during the hybrid search: {e}\")\n",
    "        traceback.print_exc()\n"
   ]
  },
  {
   "cell_type": "code",
   "execution_count": 13,
   "metadata": {},
   "outputs": [
    {
     "name": "stdout",
     "output_type": "stream",
     "text": [
      "\n",
      "Vector Search results:\n",
      "Quote: “Some birds are not meant to be caged, that's all. Their feathers are too bright, their songs too sweet and wild. So you let them go, or when you open the cage to feed them they somehow fly out past you. And the part of you that knows it was wrong to imprison them in the first place rejoices, but still, the place where you live is that much more drab and empty for their departure.” - Author: Stephen King, - Tags: birds, freedom, friends, friendship, letting-go\n",
      "Quote: “You see, cuckoos are parasites. They lay their eggs in other birds' nests. When the egg hatches, the baby cuckoo pushes the other baby birds out of the nest. The poor parent birds work themselves to death trying to find enough food to feed the enormous cuckoo child who has murdered their babies and taken their places.\"\"Enormous?\" said Jace. \"Did you just call me fat?\"\"It was an analogy.\"\"I am not fat.” - Author: Cassandra Clare, - Tags: imposters\n",
      "Quote: “Jane, be still; don't struggle so like a wild, frantic bird, that is rending its own plumage in its desperation.\"\"I am no bird; and no net ensnares me; I am a free human being, with an independent will; which I now exert to leave you.” - Author: Charlotte BrontÃ« , - Tags: freedom, inspirational, literature\n",
      "Quote: “You do not have to be good.You do not have to walk on your kneesfor a hundred miles through the desert, repenting.You only have to let the soft animal of your body love what it loves.Tell me about despair, yours, and I will tell you mine.Meanwhile the world goes on.Meanwhile the sun and the clear pebbles of the rainare moving across the landscapes,over the prairies and the deep trees,the mountains and the rivers.Meanwhile the wild geese, high in the clean blue air,are heading home again.Whoever you are, no matter how lonely,the world offers itself to your imagination,calls to you like the wild geese, harsh and exciting â€“over and over announcing your placein the family of things.” - Author: Mary Oliver - Tags: beauty, birds, nature, poetry, shore, woods\n",
      "Quote: “Hold fast to dreams,For if dreams dieLife is a broken-winged bird,That cannot fly.” - Author: Langston Hughes - Tags: dreams, hope, inspiration, knowledge, wisdom\n",
      "\n",
      "Hybrid Search results:\n",
      "Quote: “Tiger got to hunt, bird got to fly;Man got to sit and wonder 'why, why, why?'Tiger got to sleep, bird got to land;Man got to tell himself he understand.” - Author: Kurt Vonnegut, - Tags: life, nature, philosophy\n",
      "Quote: “Some birds are not meant to be caged, that's all. Their feathers are too bright, their songs too sweet and wild. So you let them go, or when you open the cage to feed them they somehow fly out past you. And the part of you that knows it was wrong to imprison them in the first place rejoices, but still, the place where you live is that much more drab and empty for their departure.” - Author: Stephen King, - Tags: birds, freedom, friends, friendship, letting-go\n",
      "Quote: “You see, cuckoos are parasites. They lay their eggs in other birds' nests. When the egg hatches, the baby cuckoo pushes the other baby birds out of the nest. The poor parent birds work themselves to death trying to find enough food to feed the enormous cuckoo child who has murdered their babies and taken their places.\"\"Enormous?\" said Jace. \"Did you just call me fat?\"\"It was an analogy.\"\"I am not fat.” - Author: Cassandra Clare, - Tags: imposters\n",
      "Quote: “Jane, be still; don't struggle so like a wild, frantic bird, that is rending its own plumage in its desperation.\"\"I am no bird; and no net ensnares me; I am a free human being, with an independent will; which I now exert to leave you.” - Author: Charlotte BrontÃ« , - Tags: freedom, inspirational, literature\n",
      "Quote: “You do not have to be good.You do not have to walk on your kneesfor a hundred miles through the desert, repenting.You only have to let the soft animal of your body love what it loves.Tell me about despair, yours, and I will tell you mine.Meanwhile the world goes on.Meanwhile the sun and the clear pebbles of the rainare moving across the landscapes,over the prairies and the deep trees,the mountains and the rivers.Meanwhile the wild geese, high in the clean blue air,are heading home again.Whoever you are, no matter how lonely,the world offers itself to your imagination,calls to you like the wild geese, harsh and exciting â€“over and over announcing your placein the family of things.” - Author: Mary Oliver - Tags: beauty, birds, nature, poetry, shore, woods\n"
     ]
    }
   ],
   "source": [
    "# Get search term from the user\n",
    "user_query = input(\"Enter a search term (e.g., 'A novel' or 'A film', or the name of a novel film, e.g. 'Moby Dick' : \")\n",
    "\n",
    "# Perform vector search\n",
    "perform_vector_search(client, user_query)\n",
    "\n",
    "# Perform hybrid search\n",
    "perform_hybrid_search(client, user_query)"
   ]
  }
 ],
 "metadata": {
  "kernelspec": {
   "display_name": "Python 3.9.19",
   "language": "python",
   "name": "python3"
  },
  "language_info": {
   "codemirror_mode": {
    "name": "ipython",
    "version": 3
   },
   "file_extension": ".py",
   "mimetype": "text/x-python",
   "name": "python",
   "nbconvert_exporter": "python",
   "pygments_lexer": "ipython3",
   "version": "3.12.3"
  },
  "orig_nbformat": 4,
  "vscode": {
   "interpreter": {
    "hash": "f23680dae5e9e2703d96b1f7bf48689a2ad7faa5a4d9c457dbe8e4bdacdee703"
   }
  }
 },
 "nbformat": 4,
 "nbformat_minor": 2
}
